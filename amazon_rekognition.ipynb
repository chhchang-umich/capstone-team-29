{
  "cells": [
    {
      "cell_type": "markdown",
      "metadata": {
        "id": "view-in-github",
        "colab_type": "text"
      },
      "source": [
        "<a href=\"https://colab.research.google.com/github/vgaquino/capstone-team-29/blob/main/amazon_rekognition.ipynb\" target=\"_parent\"><img src=\"https://colab.research.google.com/assets/colab-badge.svg\" alt=\"Open In Colab\"/></a>"
      ]
    },
    {
      "cell_type": "code",
      "execution_count": null,
      "id": "98f74129",
      "metadata": {
        "id": "98f74129"
      },
      "outputs": [],
      "source": [
        "import boto3\n",
        "import json"
      ]
    },
    {
      "cell_type": "code",
      "execution_count": null,
      "id": "b853bcce-d075-4ec8-a9f3-cfaf276d2afb",
      "metadata": {
        "id": "b853bcce-d075-4ec8-a9f3-cfaf276d2afb"
      },
      "outputs": [],
      "source": [
        "# Opening JSON file\n",
        "f = open('secrets.json')\n",
        "\n",
        "# # returns JSON object as\n",
        "# # a dictionary\n",
        "secrets = json.load(f)"
      ]
    },
    {
      "cell_type": "code",
      "execution_count": null,
      "id": "9b11206e",
      "metadata": {
        "id": "9b11206e"
      },
      "outputs": [],
      "source": [
        "# I was using my own access, need to create a shared access with limited permission\n",
        "s3 = boto3.client('s3',\n",
        "        aws_access_key_id=secrets[\"ACCESS_ID\"],\n",
        "        aws_secret_access_key= [\"ACCESS_KEY\"])"
      ]
    },
    {
      "cell_type": "code",
      "execution_count": null,
      "id": "52b8c645-d3c9-4282-886d-bb331ce3387e",
      "metadata": {
        "scrolled": true,
        "id": "52b8c645-d3c9-4282-886d-bb331ce3387e"
      },
      "outputs": [],
      "source": [
        "s3.upload_file(\"new_image.jpg\", \"umichcapstoneproject\", \"snowman.jpg\")"
      ]
    },
    {
      "cell_type": "code",
      "execution_count": null,
      "id": "de5dd2c8-ffa0-4a94-9a2c-c4036c886804",
      "metadata": {
        "id": "de5dd2c8-ffa0-4a94-9a2c-c4036c886804"
      },
      "outputs": [],
      "source": [
        "rekognition = boto3.client('rekognition',\n",
        "                           region_name='us-east-1'\n",
        "                          )"
      ]
    },
    {
      "cell_type": "code",
      "execution_count": null,
      "id": "35987b98-eb83-4586-a07d-c7907b4ac64c",
      "metadata": {
        "id": "35987b98-eb83-4586-a07d-c7907b4ac64c"
      },
      "outputs": [],
      "source": [
        "response = rekognition.detect_labels(\n",
        "    Image={\n",
        "        'S3Object': {\n",
        "            'Bucket': 'umichcapstoneproject',\n",
        "            'Name': 'snowman.jpg',\n",
        "        }\n",
        "    },\n",
        "    MaxLabels=5,\n",
        "    MinConfidence=80)"
      ]
    },
    {
      "cell_type": "code",
      "execution_count": null,
      "id": "50e4aa85-4b2f-4285-8b55-0f87a59e8751",
      "metadata": {
        "id": "50e4aa85-4b2f-4285-8b55-0f87a59e8751",
        "outputId": "f3fcaec0-9fe0-42f0-cb12-94c2b44b47a5"
      },
      "outputs": [
        {
          "data": {
            "text/plain": [
              "{'Labels': [{'Name': 'Outdoors',\n",
              "   'Confidence': 98.38977813720703,\n",
              "   'Instances': [],\n",
              "   'Parents': [],\n",
              "   'Aliases': [],\n",
              "   'Categories': [{'Name': 'Nature and Outdoors'}]},\n",
              "  {'Name': 'Nature',\n",
              "   'Confidence': 97.76380157470703,\n",
              "   'Instances': [],\n",
              "   'Parents': [{'Name': 'Outdoors'}],\n",
              "   'Aliases': [],\n",
              "   'Categories': [{'Name': 'Nature and Outdoors'}]},\n",
              "  {'Name': 'Flame',\n",
              "   'Confidence': 96.73646545410156,\n",
              "   'Instances': [],\n",
              "   'Parents': [{'Name': 'Fire'}],\n",
              "   'Aliases': [],\n",
              "   'Categories': [{'Name': 'Public Safety'}]},\n",
              "  {'Name': 'Bonfire',\n",
              "   'Confidence': 90.4343490600586,\n",
              "   'Instances': [{'BoundingBox': {'Width': 0.39215171337127686,\n",
              "      'Height': 0.7729123830795288,\n",
              "      'Left': 0.13832511007785797,\n",
              "      'Top': 0.2193162441253662},\n",
              "     'Confidence': 90.4343490600586}],\n",
              "   'Parents': [{'Name': 'Fire'}, {'Name': 'Flame'}],\n",
              "   'Aliases': [],\n",
              "   'Categories': [{'Name': 'Travel and Adventure'}]},\n",
              "  {'Name': 'Snowman',\n",
              "   'Confidence': 81.52344512939453,\n",
              "   'Instances': [{'BoundingBox': {'Width': 0.5674862861633301,\n",
              "      'Height': 0.808286726474762,\n",
              "      'Left': 0.4026409387588501,\n",
              "      'Top': 0.04304321110248566},\n",
              "     'Confidence': 81.52344512939453}],\n",
              "   'Parents': [{'Name': 'Nature'},\n",
              "    {'Name': 'Outdoors'},\n",
              "    {'Name': 'Snow'},\n",
              "    {'Name': 'Winter'}],\n",
              "   'Aliases': [],\n",
              "   'Categories': [{'Name': 'Events and Attractions'}]}],\n",
              " 'LabelModelVersion': '3.0',\n",
              " 'ResponseMetadata': {'RequestId': '83d2c7aa-b76b-40d5-9c51-1a1c4b3dd099',\n",
              "  'HTTPStatusCode': 200,\n",
              "  'HTTPHeaders': {'x-amzn-requestid': '83d2c7aa-b76b-40d5-9c51-1a1c4b3dd099',\n",
              "   'content-type': 'application/x-amz-json-1.1',\n",
              "   'content-length': '1164',\n",
              "   'date': 'Sun, 31 Mar 2024 00:31:36 GMT'},\n",
              "  'RetryAttempts': 0}}"
            ]
          },
          "execution_count": 7,
          "metadata": {},
          "output_type": "execute_result"
        }
      ],
      "source": [
        "response"
      ]
    },
    {
      "cell_type": "code",
      "execution_count": null,
      "id": "b794d3c2-5e88-4cbc-8ae1-d66983a61ea6",
      "metadata": {
        "id": "b794d3c2-5e88-4cbc-8ae1-d66983a61ea6",
        "outputId": "1ebfd1ca-4c91-4df0-d9e2-4c5654fa7de7"
      },
      "outputs": [
        {
          "name": "stdout",
          "output_type": "stream",
          "text": [
            "{'Name': 'Outdoors', 'Confidence': 98.38977813720703, 'Instances': [], 'Parents': [], 'Aliases': [], 'Categories': [{'Name': 'Nature and Outdoors'}]}\n",
            "{'Name': 'Nature', 'Confidence': 97.76380157470703, 'Instances': [], 'Parents': [{'Name': 'Outdoors'}], 'Aliases': [], 'Categories': [{'Name': 'Nature and Outdoors'}]}\n",
            "{'Name': 'Flame', 'Confidence': 96.73646545410156, 'Instances': [], 'Parents': [{'Name': 'Fire'}], 'Aliases': [], 'Categories': [{'Name': 'Public Safety'}]}\n",
            "{'Name': 'Bonfire', 'Confidence': 90.4343490600586, 'Instances': [{'BoundingBox': {'Width': 0.39215171337127686, 'Height': 0.7729123830795288, 'Left': 0.13832511007785797, 'Top': 0.2193162441253662}, 'Confidence': 90.4343490600586}], 'Parents': [{'Name': 'Fire'}, {'Name': 'Flame'}], 'Aliases': [], 'Categories': [{'Name': 'Travel and Adventure'}]}\n",
            "{'Name': 'Snowman', 'Confidence': 81.52344512939453, 'Instances': [{'BoundingBox': {'Width': 0.5674862861633301, 'Height': 0.808286726474762, 'Left': 0.4026409387588501, 'Top': 0.04304321110248566}, 'Confidence': 81.52344512939453}], 'Parents': [{'Name': 'Nature'}, {'Name': 'Outdoors'}, {'Name': 'Snow'}, {'Name': 'Winter'}], 'Aliases': [], 'Categories': [{'Name': 'Events and Attractions'}]}\n"
          ]
        }
      ],
      "source": [
        "for label in response['Labels']:\n",
        "    print(label)"
      ]
    },
    {
      "cell_type": "code",
      "execution_count": null,
      "id": "28da0215-c8d6-4004-b171-68f0a7a82f97",
      "metadata": {
        "id": "28da0215-c8d6-4004-b171-68f0a7a82f97"
      },
      "outputs": [],
      "source": [
        "items_in_image = []\n",
        "for label in response['Labels']:\n",
        "    # if 'BoundingBox' in label['Instances'].key():\n",
        "    #     print(label['Name'])\n",
        "    if len(label['Instances']) > 0:\n",
        "        items_in_image.append(label['Name'])"
      ]
    },
    {
      "cell_type": "code",
      "execution_count": null,
      "id": "f8996a6c-c0c0-47bb-8e87-74f9445b615f",
      "metadata": {
        "id": "f8996a6c-c0c0-47bb-8e87-74f9445b615f",
        "outputId": "2d1b8a28-83f1-4cbd-f3e6-f374a63949ce"
      },
      "outputs": [
        {
          "data": {
            "text/plain": [
              "['Bonfire', 'Snowman']"
            ]
          },
          "execution_count": 10,
          "metadata": {},
          "output_type": "execute_result"
        }
      ],
      "source": [
        "items_in_image"
      ]
    },
    {
      "cell_type": "code",
      "execution_count": null,
      "id": "08ee3549-0961-45d5-986d-e96aa00e8834",
      "metadata": {
        "id": "08ee3549-0961-45d5-986d-e96aa00e8834"
      },
      "outputs": [],
      "source": []
    }
  ],
  "metadata": {
    "kernelspec": {
      "display_name": "Python 3 (ipykernel)",
      "language": "python",
      "name": "python3"
    },
    "language_info": {
      "codemirror_mode": {
        "name": "ipython",
        "version": 3
      },
      "file_extension": ".py",
      "mimetype": "text/x-python",
      "name": "python",
      "nbconvert_exporter": "python",
      "pygments_lexer": "ipython3",
      "version": "3.11.8"
    },
    "colab": {
      "provenance": [],
      "include_colab_link": true
    }
  },
  "nbformat": 4,
  "nbformat_minor": 5
}